{
 "cells": [
  {
   "cell_type": "markdown",
   "id": "b4bbd513",
   "metadata": {},
   "source": [
    "# STEP1: Clone open_model_zoo Repository\n",
    "\n",
    "[open_model_zoo](https://github.com/openvinotoolkit/open_model_zoo) 是 OpenVINO Toolkit 下的子專案，內容包含大量的預先訓練好的深度神經網路模型，並且附帶各種不同的 DEMO 範例程式。先知其然在探究其所以然，讓入門者可以方便切入 AI 領域。\n",
    "\n",
    "在DevCloud上雖然已有內建open_model_zoo的範例與模型說明資料等，但為確保我們使用的是最新版本，需要從 Github 複製一個目前最新的 open_model_zoo 副本到 DevCloud上。"
   ]
  },
  {
   "cell_type": "code",
   "execution_count": 1,
   "id": "83fb526f",
   "metadata": {},
   "outputs": [
    {
     "name": "stdout",
     "output_type": "stream",
     "text": [
      "mkdir: cannot create directory ‘/home/u124443/my_demo/’: File exists\r\n"
     ]
    }
   ],
   "source": [
    "!mkdir ~/my_demo/"
   ]
  },
  {
   "cell_type": "code",
   "execution_count": 2,
   "id": "4895e0ab",
   "metadata": {},
   "outputs": [
    {
     "name": "stdout",
     "output_type": "stream",
     "text": [
      "/home/u124443/my_demo\n"
     ]
    }
   ],
   "source": [
    "%cd ~/my_demo/"
   ]
  },
  {
   "cell_type": "code",
   "execution_count": 3,
   "id": "dddc45fe",
   "metadata": {},
   "outputs": [
    {
     "name": "stdout",
     "output_type": "stream",
     "text": [
      "fatal: destination path 'open_model_zoo' already exists and is not an empty directory.\r\n"
     ]
    }
   ],
   "source": [
    "!git clone https://github.com/openvinotoolkit/open_model_zoo.git"
   ]
  },
  {
   "cell_type": "markdown",
   "id": "b8866ebf",
   "metadata": {},
   "source": [
    "# STEP2: Download and Converter Pre-trained Model 下載與轉換預訓練模型\n",
    "使用內建的 OpenVINO downloader 工具，下載範例 DEMO 程式相關模型。\n",
    "\n",
    "由於物件偵測 object detection 的模型非常多，這邊會花上一些等待時間。\n",
    "若已經有指定的模型，可以只下載特定模型以節省時間。"
   ]
  },
  {
   "cell_type": "markdown",
   "id": "32726dbf",
   "metadata": {},
   "source": [
    "## Sepcific Model 下載特定模型"
   ]
  },
  {
   "cell_type": "markdown",
   "id": "7763b06c",
   "metadata": {},
   "source": [
    "### Download 下載模型\n",
    "下載預訓練的模型做，所有模型可以參照\n",
    "\n",
    "downloader.py 工具常用參數如下，完整說明可參閱 [OpenVINO文件](https://docs.openvinotoolkit.org/latest/omz_tools_downloader.html)\n",
    "\n",
    "* --all: 下載所有預訓練模型（數量龐大耗費時間久，不建議）\n",
    "* --list: 使用模型列表檔案來進行轉換\n",
    "* --name: 指定模型的名稱，個模型用逗點隔開\n",
    "* --precisions: 只下載特定精度的模型"
   ]
  },
  {
   "cell_type": "code",
   "execution_count": 6,
   "id": "2b7592fe",
   "metadata": {},
   "outputs": [],
   "source": [
    "DEMO_PATH='open_model_zoo/demos/object_detection_demo/python'\n",
    "MODEL_NAME='ssd_mobilenet_v2_coco'"
   ]
  },
  {
   "cell_type": "code",
   "execution_count": 7,
   "id": "e5b510de",
   "metadata": {
    "scrolled": true
   },
   "outputs": [
    {
     "name": "stdout",
     "output_type": "stream",
     "text": [
      "# This file can be used with the --list option of the model downloader.\r\n",
      "# For --architecture_type=centernet\r\n",
      "ctdet_coco_dlav0_384\r\n",
      "ctdet_coco_dlav0_512\r\n",
      "# For --architecture_type=ctpn\r\n",
      "ctpn\r\n",
      "# For --architecture_type=detr\r\n",
      "detr-resnet50\r\n",
      "# For --architecture_type=faceboxes\r\n",
      "faceboxes-pytorch\r\n",
      "# For --architecture_type=retinaface-pytorch\r\n",
      "retinaface-resnet50-pytorch\r\n",
      "# For --architecture_type=ssd\r\n",
      "efficientdet-d0-tf\r\n",
      "efficientdet-d1-tf\r\n",
      "face-detection-????\r\n",
      "face-detection-adas-????\r\n",
      "face-detection-retail-????\r\n",
      "faster-rcnn-resnet101-coco-sparse-60-0001\r\n",
      "pedestrian-and-vehicle-detector-adas-????\r\n",
      "pedestrian-detection-adas-????\r\n",
      "pelee-coco\r\n",
      "person-detection-????\r\n",
      "person-detection-retail-0013\r\n",
      "person-vehicle-bike-detection-????\r\n",
      "product-detection-0001\r\n",
      "retinanet-tf\r\n",
      "rfcn-resnet101-coco-tf\r\n",
      "ssd300\r\n",
      "ssd512\r\n",
      "ssd_mobilenet_v1_coco\r\n",
      "ssd_mobilenet_v1_fpn_coco\r\n",
      "ssd_mobilenet_v2_coco\r\n",
      "ssd_resnet50_v1_fpn_coco\r\n",
      "ssd-resnet34-1200-onnx\r\n",
      "ssdlite_mobilenet_v2\r\n",
      "vehicle-detection-????\r\n",
      "vehicle-detection-adas-????\r\n",
      "vehicle-license-plate-detection-barrier-????\r\n",
      "# For --architecture_type=ultra_lightweight_face_detection\r\n",
      "ultra-lightweight-face-detection-rfb-320\r\n",
      "ultra-lightweight-face-detection-slim-320\r\n",
      "# For --architecture_type=yolo\r\n",
      "mobilefacedet-v1-mxnet\r\n",
      "mobilenet-yolo-v4-syg\r\n",
      "person-vehicle-bike-detection-crossroad-yolov3-1020\r\n",
      "yolo-v1-tiny-tf\r\n",
      "yolo-v2-ava-0001\r\n",
      "yolo-v2-ava-sparse-??-0001\r\n",
      "yolo-v2-tf\r\n",
      "yolo-v2-tiny-ava-0001\r\n",
      "yolo-v2-tiny-ava-sparse-??-0001\r\n",
      "yolo-v2-tiny-tf\r\n",
      "yolo-v2-tiny-vehicle-detection-0001\r\n",
      "yolo-v3-tf\r\n",
      "yolo-v3-tiny-tf\r\n",
      "# For --architecture_type=yolov3-onnx\r\n",
      "yolo-v3-onnx\r\n",
      "yolo-v3-tiny-onnx\r\n",
      "# For --architecture_type=yolov4\r\n",
      "yolo-v4-tf\r\n",
      "yolo-v4-tiny-tf\r\n",
      "# For --architecture_type=yolof\r\n",
      "yolof\r\n",
      "# For --architecture_type=yolox\r\n",
      "yolox-tiny\r\n"
     ]
    }
   ],
   "source": [
    "!cat $DEMO_PATH/models.lst"
   ]
  },
  {
   "cell_type": "code",
   "execution_count": 8,
   "id": "329f7719",
   "metadata": {},
   "outputs": [
    {
     "name": "stdout",
     "output_type": "stream",
     "text": [
      "################|| Downloading ssd_mobilenet_v2_coco ||################\n",
      "\n",
      "========== Downloading /home/u124443/my_demo/public/ssd_mobilenet_v2_coco/ssd_mobilenet_v2_coco.tar.gz\n",
      "... 100%, 183521 KB, 23603 KB/s, 7 seconds passed\n",
      "\n",
      "========== Unpacking /home/u124443/my_demo/public/ssd_mobilenet_v2_coco/ssd_mobilenet_v2_coco.tar.gz\n",
      "\n"
     ]
    }
   ],
   "source": [
    "!downloader.py --name $MODEL_NAME --precisions FP16"
   ]
  },
  {
   "cell_type": "markdown",
   "id": "f84b0081",
   "metadata": {},
   "source": [
    "### Converter 轉換模型\n",
    "\n",
    "將預訓練的模型做最佳化轉換成 OpenVINO 推論引擎要使用的格式。\n",
    "\n",
    "converter.py 工具常用參數，\n",
    "\n",
    "* --all:  轉換所有預訓練模型（數量龐大耗費時間久，不建議）\n",
    "* --list: 使用模型列表檔案來進行轉換\n",
    "* --name: 指定模型的名稱，個模型用逗點隔開\n",
    "* --precisions: 指定轉換後的精度，如FP32, FP16 等"
   ]
  },
  {
   "cell_type": "code",
   "execution_count": null,
   "id": "c2fd15b5",
   "metadata": {
    "scrolled": true
   },
   "outputs": [],
   "source": [
    "!converter.py --name $MODEL_NAME --precisions FP32"
   ]
  },
  {
   "cell_type": "markdown",
   "id": "2852967d",
   "metadata": {},
   "source": [
    "# STEP3: Run Object Detection Demo\n",
    "\n",
    "運行物件偵測的 Python 範例程式，這邊範例分為兩個部分，圖片與影片。\n",
    "\n",
    "執行的範例程式路徑為 open_model_zoo/demos/object_detection_demo/python/object_detection_demo.py\n",
    "\n",
    "使用到的參數列表如下，若想查看完整列表可以參照[官方文件](https://docs.openvinotoolkit.org/latest/omz_demos_object_detection_demo_python.html) ：\n",
    "\n",
    "* -m MODEL:(必要) 神經網路模型，需指向到 .xml 檔案\n",
    "* -i INPUT:(必要) 輸入的影像來源，可以為圖片、目錄（內含圖片）、影片以及Camera ID等\n",
    "* -at: (必要) 物件偵測神經網路模型的架構，可為 ssd, yolo, tolov4, faceboxes, ctpn,... 等\n",
    "* -d DEVICE: 使用的推論硬體，可為 CPU, GPU, HDDL 等。預設為 CPU\n",
    "* --label: 模型資料集對應的標籤檔\n",
    "* -o OUTPUT: 輸出檔案\n",
    "* --no_show: 不顯示輸出結果（預設會使用GTK圖形工具顯示辨識結果影像）"
   ]
  },
  {
   "cell_type": "markdown",
   "id": "e5fa75f2",
   "metadata": {},
   "source": [
    "## Object Detection for Video 影片物件偵測"
   ]
  },
  {
   "cell_type": "markdown",
   "id": "ea6f672a",
   "metadata": {},
   "source": [
    "### View Input Video 檢視輸入影片"
   ]
  },
  {
   "cell_type": "code",
   "execution_count": null,
   "id": "cbaf9565",
   "metadata": {},
   "outputs": [],
   "source": [
    "!wget https://github.com/Jack0630/DevCloud_iSEE/raw/main/Video/demo1.mp4"
   ]
  },
  {
   "cell_type": "code",
   "execution_count": 44,
   "id": "e06e6345",
   "metadata": {},
   "outputs": [
    {
     "name": "stdout",
     "output_type": "stream",
     "text": [
      "--2021-12-26 01:44:46--  https://github.com/Jack0630/DevCloud_iSEE/raw/main/Video/demo2.mp4\n",
      "Resolving github.com (github.com)... 140.82.112.3\n",
      "Connecting to github.com (github.com)|140.82.112.3|:443... connected.\n",
      "HTTP request sent, awaiting response... 302 Found\n",
      "Location: https://raw.githubusercontent.com/Jack0630/DevCloud_iSEE/main/Video/demo2.mp4 [following]\n",
      "--2021-12-26 01:44:46--  https://raw.githubusercontent.com/Jack0630/DevCloud_iSEE/main/Video/demo2.mp4\n",
      "Resolving raw.githubusercontent.com (raw.githubusercontent.com)... 185.199.110.133, 185.199.108.133, 185.199.109.133, ...\n",
      "Connecting to raw.githubusercontent.com (raw.githubusercontent.com)|185.199.110.133|:443... connected.\n",
      "HTTP request sent, awaiting response... 200 OK\n",
      "Length: 4321991 (4.1M) [application/octet-stream]\n",
      "Saving to: ‘demo2.mp4’\n",
      "\n",
      "demo2.mp4           100%[===================>]   4.12M  27.1MB/s    in 0.2s    \n",
      "\n",
      "2021-12-26 01:44:47 (27.1 MB/s) - ‘demo2.mp4’ saved [4321991/4321991]\n",
      "\n"
     ]
    }
   ],
   "source": [
    "!wget https://github.com/Jack0630/DevCloud_iSEE/raw/main/Video/demo2.mp4"
   ]
  },
  {
   "cell_type": "code",
   "execution_count": null,
   "id": "630b0338",
   "metadata": {},
   "outputs": [],
   "source": [
    "from qarpo.demoutils import *\n",
    "InputVideo1 = \"my_demo/demo1.mp4\"\n",
    "videoHTML('Input: demo1', [InputVideo1])"
   ]
  },
  {
   "cell_type": "code",
   "execution_count": 45,
   "id": "00821f1a",
   "metadata": {},
   "outputs": [
    {
     "data": {
      "text/html": [
       "<h2>Input: demo2</h2>\n",
       "    \n",
       "    <video alt=\"\" controls autoplay muted height=\"480\"><source src=\"my_demo/demo2.mp4\" type=\"video/mp4\" /></video>\n",
       "    "
      ],
      "text/plain": [
       "<IPython.core.display.HTML object>"
      ]
     },
     "execution_count": 45,
     "metadata": {},
     "output_type": "execute_result"
    }
   ],
   "source": [
    "from qarpo.demoutils import *\n",
    "InputVideo2 = \"my_demo/demo2.mp4\"\n",
    "videoHTML('Input: demo2', [InputVideo2])"
   ]
  },
  {
   "cell_type": "markdown",
   "id": "9a7f66d1",
   "metadata": {},
   "source": [
    "### Inference Demo 執行推論範例"
   ]
  },
  {
   "cell_type": "markdown",
   "id": "8cd69995",
   "metadata": {},
   "source": [
    "修改輸出 codec 格式方能在 DevCloud 上檢視結果"
   ]
  },
  {
   "cell_type": "code",
   "execution_count": 46,
   "id": "6d2ae645",
   "metadata": {},
   "outputs": [
    {
     "name": "stdout",
     "output_type": "stream",
     "text": [
      "            results = detector_pipeline.get_result(next_frame_id_to_show)\r\n"
     ]
    }
   ],
   "source": [
    "!sed -i 's/MJPG/avc1/g' $DEMO_PATH/object_detection_demo.py\n",
    "!sed -n '304p' $DEMO_PATH/object_detection_demo.py"
   ]
  },
  {
   "cell_type": "code",
   "execution_count": null,
   "id": "9018c466",
   "metadata": {},
   "outputs": [],
   "source": [
    "!$DEMO_PATH/object_detection_demo.py  \\\n",
    "-i demo1.mp4 -o demo1_output.mp4 --no_show  -m public/ssd_mobilenet_v2_coco/FP32/ssd_mobilenet_v2_coco.xml  -at ssd \\\n",
    "--labels open_model_zoo/data/dataset_classes/coco_91cl_bkgr.txt"
   ]
  },
  {
   "cell_type": "code",
   "execution_count": 47,
   "id": "38968c80",
   "metadata": {
    "scrolled": false
   },
   "outputs": [
    {
     "name": "stdout",
     "output_type": "stream",
     "text": [
      "/usr/local/lib/python3.6/dist-packages/pkg_resources/__init__.py:119: PkgResourcesDeprecationWarning: 0.18ubuntu0.18.04.1 is an invalid version and will not be supported in a future release\n",
      "  PkgResourcesDeprecationWarning,\n",
      "[ INFO ] OpenVINO Inference Engine\n",
      "[ INFO ] \tbuild: 2021.4.2-3974-e2a469a3450-releases/2021/4\n",
      "[ INFO ] Reading model public/ssd_mobilenet_v2_coco/FP32/ssd_mobilenet_v2_coco.xml\n",
      "[ WARNING ] The parameter \"input_size\" not found in SSD wrapper, will be omitted\n",
      "[ DEBUG ] \tUsing SSD model with single output parser\n",
      "[ INFO ] \tInput layer: image_tensor, shape: [1, 3, 300, 300], precision: FP32\n",
      "[ INFO ] \tOutput layer: DetectionOutput, shape: [1, 1, 100, 7], precision: FP32\n",
      "[ INFO ] The model public/ssd_mobilenet_v2_coco/FP32/ssd_mobilenet_v2_coco.xml is loaded to CPU\n",
      "[ INFO ] \tDevice: CPU\n",
      "[ INFO ] \t\tNumber of streams: 20\n",
      "[ INFO ] \t\tNumber of threads: AUTO\n",
      "[ INFO ] \tNumber of network infer requests: 21\n",
      "[ INFO ] Metrics report:\n",
      "[ INFO ] \tLatency: 593.8 ms\n",
      "[ INFO ] \tFPS: 16.1\n",
      "[ INFO ] \tDecoding:\t11.4 ms\n",
      "[ INFO ] \tPreprocessing:\t0.9 ms\n",
      "[ INFO ] \tInference:\t580.4 ms\n",
      "[ INFO ] \tPostprocessing:\t0.8 ms\n",
      "[ INFO ] \tRendering:\t0.4 ms\n"
     ]
    }
   ],
   "source": [
    "!$DEMO_PATH/object_detection_demo.py  \\\n",
    "-i demo2.mp4 -o demo2_output.mp4 --no_show  -m public/ssd_mobilenet_v2_coco/FP32/ssd_mobilenet_v2_coco.xml  -at ssd \\\n",
    "--labels open_model_zoo/data/dataset_classes/coco_91cl_bkgr.txt"
   ]
  },
  {
   "cell_type": "markdown",
   "id": "e73cfe48",
   "metadata": {},
   "source": [
    "### View Output Video 檢視輸出影片"
   ]
  },
  {
   "cell_type": "code",
   "execution_count": 35,
   "id": "e2a7da66",
   "metadata": {},
   "outputs": [
    {
     "data": {
      "text/html": [
       "<h2>Output: demo1_out</h2>\n",
       "    \n",
       "    <video alt=\"\" controls autoplay muted height=\"480\"><source src=\"my_demo/demo1_output.mp4\" type=\"video/mp4\" /></video>\n",
       "    "
      ],
      "text/plain": [
       "<IPython.core.display.HTML object>"
      ]
     },
     "execution_count": 35,
     "metadata": {},
     "output_type": "execute_result"
    }
   ],
   "source": [
    "OutputVideo1 = \"my_demo/demo1_output.mp4\"\n",
    "videoHTML('Output: demo1_out', [OutputVideo1])"
   ]
  },
  {
   "cell_type": "code",
   "execution_count": 28,
   "id": "5999e748",
   "metadata": {
    "collapsed": true
   },
   "outputs": [
    {
     "data": {
      "text/html": [
       "<h2>Output: Street Video</h2>\n",
       "    \n",
       "    <video alt=\"\" controls autoplay muted height=\"480\"><source src=\"my_demo/output.mp4\" type=\"video/mp4\" /></video>\n",
       "    "
      ],
      "text/plain": [
       "<IPython.core.display.HTML object>"
      ]
     },
     "execution_count": 28,
     "metadata": {},
     "output_type": "execute_result"
    }
   ],
   "source": [
    "OutputVideo2 = \"my_demo/demo2_output.mp4\"\n",
    "videoHTML('Output: demo2_out', [OutputVideo2])"
   ]
  },
  {
   "cell_type": "markdown",
   "id": "9e4ce60f",
   "metadata": {},
   "source": [
    "(optional) 將範例程式裡面的 codec 換回原本的 MJPG"
   ]
  },
  {
   "cell_type": "code",
   "execution_count": 34,
   "id": "350e5693",
   "metadata": {
    "scrolled": true
   },
   "outputs": [
    {
     "name": "stdout",
     "output_type": "stream",
     "text": [
      "            results = detector_pipeline.get_result(next_frame_id_to_show)\r\n"
     ]
    }
   ],
   "source": [
    "!sed -i 's/avc1/MJPG/g' $DEMO_PATH/object_detection_demo.py\n",
    "!sed -n '304p' $DEMO_PATH/object_detection_demo.py"
   ]
  },
  {
   "cell_type": "markdown",
   "id": "ee3a7700",
   "metadata": {},
   "source": [
    "# STEP4: Inference on Real Edge Devices 在邊緣裝置執行推論"
   ]
  },
  {
   "cell_type": "markdown",
   "id": "0565eb9c",
   "metadata": {},
   "source": [
    "## Create the Job File 建立工作腳本檔案\n",
    "\n",
    "接下來將使用到 DevCloud 上一個強大的功能，就是可以能把AI推論應用程式放到實體邊緣裝置進行運算，所有支援的裝置可以參見 [支援裝置清單](https://software.intel.com/content/www/us/en/develop/tools/devcloud/edge/launch.html)\n",
    "\n",
    "在配發工作任務給各邊緣裝置之前，必須先建立 shell script 的腳本工作檔，後續將使用這個工作檔將任務送到各邊緣裝置上。\n",
    "為方便我們有彈性的切換 CPU/GPU 運算以及設定輸出檔案，將部分參數於呼叫時傳入，預期指令如下：\n",
    "\n",
    "```bash\n",
    "job.sh <output_file> <device>\n",
    "```\n",
    "\n",
    "其中個參數之意義為:\n",
    "- <*output_file*> - 輸出的檔案或目錄\n",
    "- <*device*> - 使用的推論硬體，如 CPU, GPU 等\n",
    "\n",
    "接著執行下一個 cell 使用 ipython notebook 的 magic command [`%%writefile`](https://ipython.readthedocs.io/en/stable/interactive/magics.html#cellmagic-writefile) 生成工作任務檔，各位也可以自行編修調整。"
   ]
  },
  {
   "cell_type": "code",
   "execution_count": 48,
   "id": "36d1305d",
   "metadata": {},
   "outputs": [
    {
     "name": "stdout",
     "output_type": "stream",
     "text": [
      "Writing job.sh\n"
     ]
    }
   ],
   "source": [
    "%%writefile job.sh\n",
    "\n",
    "DEMO_PATH='open_model_zoo/demos/object_detection_demo/python'\n",
    "\n",
    "OUTPUT_FILE=$1\n",
    "DEVICE=$2\n",
    "\n",
    "cd $PBS_O_WORKDIR\n",
    "\n",
    "$DEMO_PATH/object_detection_demo.py \\\n",
    "    -i street.mp4 \\\n",
    "    -o $OUTPUT_FILE \\\n",
    "    --no_show \\\n",
    "    -d $DEVICE \\\n",
    "    -m public/ssd_mobilenet_v2_coco/FP16/ssd_mobilenet_v2_coco.xml \\\n",
    "    -at ssd \\\n",
    "    --labels open_model_zoo/data/dataset_classes/coco_91cl_bkgr.txt\n",
    "    "
   ]
  },
  {
   "cell_type": "markdown",
   "id": "0523e674",
   "metadata": {},
   "source": [
    "修改輸出 codec 格式方能在 DevCloud 上檢視結果"
   ]
  },
  {
   "cell_type": "code",
   "execution_count": 49,
   "id": "ec3a6be9",
   "metadata": {},
   "outputs": [
    {
     "name": "stdout",
     "output_type": "stream",
     "text": [
      "            results = detector_pipeline.get_result(next_frame_id_to_show)\r\n"
     ]
    }
   ],
   "source": [
    "!sed -i 's/MJPG/avc1/g' $DEMO_PATH/object_detection_demo.py\n",
    "!sed -n '304p' $DEMO_PATH/object_detection_demo.py"
   ]
  },
  {
   "cell_type": "markdown",
   "id": "71c5bc97",
   "metadata": {},
   "source": [
    "## Submit Job 派送工作任務\n",
    "現在我們可以將工作任務派送給邊緣運算節點，透過 `qsub` 指令與相關參數來派送工作：\n",
    "\n",
    "```bash\n",
    "qsub <job_file> -N <JobName> -l <nodes> -F \"<job_file_arguments>\" \n",
    "```\n",
    "- <*job_file*> - 要執行的工作任務腳本，也就是我們前面4.1產生的 shell script 檔案\n",
    "- `-N` <*JobName*> : 指定工作名稱，方便我們後續藉由這名稱查看與追蹤工作任務\n",
    "- `-l` <*nodes*> - 指定工作節點，可以分配一個或多個實體裝置進行運算 *nodes*=<*node_count*>:<*property*>[:<*property*>...]\n",
    "- `-F` \"<*job_file_arguments*>\" - 工作腳本參數，這些參數將會被帶入執行的腳本中\n",
    "\n",
    "可以藉由以下這個 pdsnodes 指令來檢視目前 DevCloud for the Edge 所有可用的裝置列表"
   ]
  },
  {
   "cell_type": "code",
   "execution_count": 50,
   "id": "987fd206",
   "metadata": {
    "scrolled": true
   },
   "outputs": [
    {
     "name": "stdout",
     "output_type": "stream",
     "text": [
      "     15 idc001skl,compnode,openvino-latest,intel-core,i5-6500te,intel-hd-530,ram8gb\r\n",
      "     14 idc002mx8,compnode,openvino-latest,intel-core,i5-6500te,intel-hd-530,ram8gb,myriadx-8-vpu\r\n",
      "     11 idc004nc2,compnode,openvino-latest,intel-core,i5-6500te,intel-hd-530,ram8gb,myriadx-1-vpu\r\n",
      "      5 idc006kbl,compnode,openvino-latest,intel-core,i5-7500t,intel-hd-630,ram8gb\r\n",
      "      5 idc007xv5,compnode,openvino-latest,intel-xeon,e3-1268l-v5,intel-hd-p530,ram32gb\r\n",
      "      5 idc008u2g,compnode,openvino-latest,intel-atom,e3950,intel-hd-505,ram4gb,myriadx-1-vpu\r\n",
      "      1 idc009jkl,compnode,openvino-latest,intel-core,i5-7500,intel-hd-630,ram8gb\r\n",
      "      1 idc010jal,compnode,openvino-latest,intel-celeron,j3355,intel-hd-500,ram4gb\r\n",
      "      1 idc011ark2250s,compnode,openvino-latest,intel-core,i5-6442eq,intel-hd-530,ram8gb,myriadx-3-vpu\r\n",
      "      1 idc012ark1220l,compnode,openvino-latest,intel-atom,e3940,intel-hd-500,ram4gb,myriadx-2-vpu\r\n",
      "      1 idc013ds580,compnode,openvino-latest,intel-atom,e3950,intel-hd-505,ram2gb\r\n",
      "      4 idc014,compnode,openvino-latest,intel-core,i7-8665ue,intel-uhd-620,ram16gb,myriadx-2-vpu\r\n",
      "      3 idc015ai5,compnode,openvino-latest,intel-core,i5-8365ue,intel-uhd-620,ram8gb\r\n",
      "      2 idc016ai7,compnode,openvino-latest,intel-core,i7-8665ue,intel-uhd-620,ram16gb\r\n",
      "      1 idc017,compnode,openvino-latest,intel-xeon,gold5220r,no-gpu,ram96gb\r\n",
      "      1 idc018,compnode,openvino-latest,intel-xeon,gold6258r,no-gpu,ram96gb\r\n",
      "      2 idc021,compnode,openvino-latest,intel-xeon,silver4214r,no-gpu,ram48gb\r\n",
      "     10 idc022,compnode,openvino-latest,intel-core,i7-10710u,intel-uhd-620,ram16gb\r\n",
      "      6 idc023,compnode,openvino-latest,intel-core,i5-8365ue,intel-uhd-620,ram8gb,myriadx-2-vpu\r\n",
      "      1 idc024,compnode,openvino-latest,intel-xeon,gold5220r,no-gpu,ram96gb,myriadx-8-vpu\r\n",
      "      1 idc026,compnode,openvino-latest,intel-xeon,bronze3206r,no-gpu,ram48gb,myriadx-8-vpu\r\n",
      "      1 idc027,compnode,openvino-latest,intel-xeon,silver4214r,no-gpu,ram48gb,myriadx-8-vpu\r\n",
      "      1 idc029,compnode,openvino-latest,intel-core,i7-8665u,intel-uhd-620,ram32gb\r\n",
      "      1 idc030,compnode,openvino-latest,intel-core,i7-1065g7,iris-plus,ram16gb\r\n",
      "      1 idc031,compnode,openvino-latest,intel-xeon,e-2286m,intel-uhd-p630,ram32gb,myriadx-8-vpu\r\n",
      "     14 idc033,compnode,openvino-latest,intel-xeon,e-2286m,intel-uhd-p630,ram32gb\r\n",
      "      2 idc035whleci1_5,compnode,ebp-ecs,intel-core,i7-8665u,intel-uhd-8th-gen,ram32gb,none\r\n",
      "      5 idc036,compnode,openvino-latest,intel-core,i9-10900t,intel-uhd-630,ram32gb\r\n",
      "      5 idc037,compnode,openvino-latest,intel-core,i7-10700t,intel-uhd-630,ram32gb\r\n",
      "      5 idc038,compnode,openvino-latest,intel-core,i5-8365ue,intel-uhd-620,ram8gb,myriadx-2-vpu\r\n",
      "      1 idc042,compnode,openvino-latest,intel-core,i5-8500t,intel-uhd-630,ram32gb,myriadx-8-vpu,aaeon,boxer-6842m\r\n",
      "      1 idc043,compnode,openvino-latest,intel-core,i3-10100te,intel-uhd-630,ram16gb,myriadx-2-vpu,aaeon,genesys-cml5ai\r\n",
      "      1 idc044,compnode,openvino-latest,intel-atom,intel,atom,e3950,intel-uhd-630,ram8gb,myriadx-1-vpu\r\n",
      "      5 idc045,compnode,openvino-latest,intel-core,i7-1185g7e,iris-xe-graphics,ram16gb,none\r\n",
      "      2 idc046,compnode,openvino-latest,intel-core,i5-1145g7e,iris-xe-graphics,ram16gb\r\n",
      "      1 idc051,compnode,openvino-latest,intel-xeon,gold6314u,none,ram128gb,none,icelake\r\n",
      "      5 idc052,compnode,openvino-latest,intel-xeon,gold6338n,none,ram128gb,none,icelake\r\n",
      "      2 idc053,compnode,openvino-latest,intel-xeon,d-2166nt,none,128gb,none\r\n",
      "      1 idc054,compnode,openvino-latest,intel-core,i7-1165g7,iris-xe-graphics,ram16gb,none\r\n",
      "      1 idc055,compnode,openvino-latest,intel-core,i5-1145g7e,iris-xe-graphics,ram8gb,none\r\n",
      "      1 idc056,compnode,openvino-latest,intel-core,i3-1115g4e,intel-uhd-11th-gen,ram8gb,none\r\n",
      "      1 idc057,compnode,openvino-latest,intel-core,i5-7500t,intel-hd-630,ram8gb,myriadx-1-vpu\r\n",
      "      2 idc058,compnode,openvino-latest,intel-core,i5-8265u,intel-uhd-8th-gen,ram8gb,none\r\n",
      "      1 idc060,compnode,openvino-latest,intel-core,i5-8500,intel-uhd-p630,ram16gb,none\r\n",
      "      1 idc061,compnode,openvino-latest,intel-xeon,e-2176g,intel-uhd-p630,ram16gb,none\r\n",
      "      1 idc062,compnode,openvino-latest,intel-celeron,6305e,intel-uhd-graphics,ram16gb,none\r\n",
      "      1 idc063,compnode,openvino-latest,intel-core,xeon,w-1290te,intel-uhd-630,ram16gb,none\r\n",
      "      4 idc063,compnode,openvino-lts,intel-core,xeon,w-1290te,intel-uhd-630,ram16gb,none\r\n",
      "      2 idc065,compnode,openvino-latest,intel-core,i7-8565u,intel-uhd-8th-gen,ram8gb,none\r\n",
      "      1 idc066,compnode,openvino-latest,intel-core,i3-8145u,intel-uhd-8th-gen,ram4gb,none\r\n",
      "      1 idc067,compnode,openvino-latest,intel-core,i5-8265u,intel-uhd-8th-gen,ram32gb,none\r\n",
      "      1 idc068,compnode,openvino-latest,intel-core,i7-1185g7e,iris-xe-graphics,ram16gb,none\r\n",
      "      1 idc069,compnode,openvino-latest,intel-core,i5-1135g7,iris-xe-graphics,ram8gb,none\r\n"
     ]
    }
   ],
   "source": [
    "!pbsnodes | grep compnode | awk '{print $3}' | sort | uniq -c"
   ]
  },
  {
   "cell_type": "markdown",
   "id": "0d9f9071",
   "metadata": {},
   "source": [
    "可以看到這些列表當中，最前面的數字為這個裝置的實體數量，再來是**裝置ID**，分派工作到邊緣裝置節點指定的就是**裝置ID**，其他接續的則是這個裝置的規格，包含 openvino版本、CPU代號、顯示卡與記憶體等資訊。\n",
    "\n",
    "於此我們挑選 intel 最新的 11 代 Core 內建 Iris Xe GPU 來進行推論，並且我們執行兩次，分別使用CPU與GPU來進行推論，產生兩個不同的輸出檔，藉此來觀察兩者的效能差異。"
   ]
  },
  {
   "cell_type": "code",
   "execution_count": 51,
   "id": "14e6176d",
   "metadata": {},
   "outputs": [
    {
     "name": "stdout",
     "output_type": "stream",
     "text": [
      "318463.v-qsvr-1.devcloud-edge\r\n"
     ]
    }
   ],
   "source": [
    "#Submit job to the queue\n",
    "!qsub job.sh -l nodes=1:idc045 -N tiger_lake_cpu -F \"output_cpu.mp4 CPU\""
   ]
  },
  {
   "cell_type": "code",
   "execution_count": 52,
   "id": "78feab5c",
   "metadata": {
    "scrolled": true
   },
   "outputs": [
    {
     "name": "stdout",
     "output_type": "stream",
     "text": [
      "318464.v-qsvr-1.devcloud-edge\r\n"
     ]
    }
   ],
   "source": [
    "#Submit job to the queue\n",
    "!qsub job.sh -l nodes=1:idc045 -N tiger_lake_gpu -F \"output_gpu.mp4 GPU\""
   ]
  },
  {
   "cell_type": "markdown",
   "id": "d7d908b9",
   "metadata": {},
   "source": [
    "由於推論工作將分配給邊緣裝置進行運算，即使前一部指令已經顯示完成工作並返回，但實際上邊緣裝置可能仍在工作中。\n",
    "\n",
    "可以使用 `liveQstat()` 追蹤目前正在執行的工作任務有哪些（是的，你可以同時分派多種不同任務給各邊緣裝置），等待確定工作完成後再檢視輸出結果。\n"
   ]
  },
  {
   "cell_type": "code",
   "execution_count": 53,
   "id": "0d89dbb9",
   "metadata": {
    "scrolled": false
   },
   "outputs": [
    {
     "data": {
      "application/vnd.jupyter.widget-view+json": {
       "model_id": "02623a1ccf9348ba9b3529b7af218ec9",
       "version_major": 2,
       "version_minor": 0
      },
      "text/plain": [
       "Output(layout=Layout(border='1px solid gray', height='200px', overflow_y='auto', width='100%'))"
      ]
     },
     "metadata": {},
     "output_type": "display_data"
    },
    {
     "data": {
      "application/vnd.jupyter.widget-view+json": {
       "model_id": "7f36ec6833a045949d84ad3d754c1100",
       "version_major": 2,
       "version_minor": 0
      },
      "text/plain": [
       "Button(description='Stop', style=ButtonStyle())"
      ]
     },
     "metadata": {},
     "output_type": "display_data"
    }
   ],
   "source": [
    "liveQstat()"
   ]
  },
  {
   "cell_type": "markdown",
   "id": "85ca7517",
   "metadata": {},
   "source": [
    "(optional) 將範例程式裡面的 codec 換回原本的 MJPG"
   ]
  },
  {
   "cell_type": "code",
   "execution_count": 54,
   "id": "6580c48d",
   "metadata": {},
   "outputs": [
    {
     "name": "stdout",
     "output_type": "stream",
     "text": [
      "            results = detector_pipeline.get_result(next_frame_id_to_show)\r\n"
     ]
    }
   ],
   "source": [
    "!sed -i 's/avc1/MJPG/g' $DEMO_PATH/object_detection_demo.py\n",
    "!sed -n '304p' $DEMO_PATH/object_detection_demo.py"
   ]
  },
  {
   "cell_type": "markdown",
   "id": "72257db7",
   "metadata": {},
   "source": [
    "## View Output Result 觀察輸出結果\n"
   ]
  },
  {
   "cell_type": "code",
   "execution_count": 55,
   "id": "c45534df",
   "metadata": {},
   "outputs": [
    {
     "data": {
      "text/html": [
       "<h2>CPU Output</h2>\n",
       "    \n",
       "    <video alt=\"\" controls autoplay muted height=\"480\"><source src=\"my_demo/output_cpu.mp4\" type=\"video/mp4\" /></video>\n",
       "    "
      ],
      "text/plain": [
       "<IPython.core.display.HTML object>"
      ]
     },
     "execution_count": 55,
     "metadata": {},
     "output_type": "execute_result"
    }
   ],
   "source": [
    "OutputVideo = \"my_demo/output_cpu.mp4\"\n",
    "videoHTML('CPU Output', [OutputVideo])"
   ]
  },
  {
   "cell_type": "code",
   "execution_count": 56,
   "id": "679fe7e4",
   "metadata": {
    "scrolled": false
   },
   "outputs": [
    {
     "data": {
      "text/html": [
       "<h2>GPU Output</h2>\n",
       "    \n",
       "    <video alt=\"\" controls autoplay muted height=\"480\"><source src=\"my_demo/output_gpu.mp4\" type=\"video/mp4\" /></video>\n",
       "    "
      ],
      "text/plain": [
       "<IPython.core.display.HTML object>"
      ]
     },
     "execution_count": 56,
     "metadata": {},
     "output_type": "execute_result"
    }
   ],
   "source": [
    "OutputVideo = \"my_demo/output_gpu.mp4\"\n",
    "videoHTML('GPU Output', [OutputVideo])"
   ]
  },
  {
   "cell_type": "markdown",
   "id": "9f0ec6e1",
   "metadata": {},
   "source": [
    "# Your Next Step\n",
    "\n",
    "這篇 ipython notebook 快速的在DevCloud上實作open model zoo 的DEMO，並且佈署到 Tiger Lake 平台執行。然而 DevCloud 功能相當強大，建議各位後續可以從 open model zoo 內各種有趣的範例和預訓練的模型當中做探索，或是執行 DevCloud 上不同應用展示，都是不錯的學習路徑喔！\n"
   ]
  }
 ],
 "metadata": {
  "kernelspec": {
   "display_name": "Python 3 (OpenVINO 2021.4.2)",
   "language": "python",
   "name": "c003-python_3"
  },
  "language_info": {
   "codemirror_mode": {
    "name": "ipython",
    "version": 3
   },
   "file_extension": ".py",
   "mimetype": "text/x-python",
   "name": "python",
   "nbconvert_exporter": "python",
   "pygments_lexer": "ipython3",
   "version": "3.6.9"
  },
  "nbTranslate": {
   "displayLangs": [
    "*"
   ],
   "hotkey": "alt-t",
   "langInMainMenu": true,
   "sourceLang": "en",
   "targetLang": "fr",
   "useGoogleTranslate": true
  },
  "toc": {
   "base_numbering": 1,
   "nav_menu": {},
   "number_sections": true,
   "sideBar": true,
   "skip_h1_title": false,
   "title_cell": "Table of Contents",
   "title_sidebar": "Contents",
   "toc_cell": false,
   "toc_position": {
    "height": "calc(100% - 180px)",
    "left": "10px",
    "top": "150px",
    "width": "384px"
   },
   "toc_section_display": true,
   "toc_window_display": true
  }
 },
 "nbformat": 4,
 "nbformat_minor": 5
}
